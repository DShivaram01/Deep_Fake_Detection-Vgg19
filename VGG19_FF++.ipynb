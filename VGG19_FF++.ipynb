{
  "cells": [
    {
      "cell_type": "markdown",
      "metadata": {
        "id": "view-in-github",
        "colab_type": "text"
      },
      "source": [
        "<a href=\"https://colab.research.google.com/github/DShivaram01/Deep_Fake_Detection-Vgg19/blob/main/VGG19_FF%2B%2B.ipynb\" target=\"_parent\"><img src=\"https://colab.research.google.com/assets/colab-badge.svg\" alt=\"Open In Colab\"/></a>"
      ]
    },
    {
      "cell_type": "code",
      "execution_count": null,
      "metadata": {
        "id": "4UhjbVgXIGq6"
      },
      "outputs": [],
      "source": [
        "import cv2\n",
        "import numpy as np\n",
        "from keras.applications import VGG19\n",
        "from keras.models import Model\n",
        "from keras.layers import Dense, Flatten\n",
        "\n",
        "# Load the pre-trained VGG19 model\n",
        "base_model = VGG19(weights='imagenet', include_top=False, input_shape=(224, 224, 3))\n",
        "\n",
        "# Freeze the layers in the base model\n",
        "for layer in base_model.layers:\n",
        "    layer.trainable = False\n",
        "\n",
        "# Add a new output layer on top of the pre-trained model\n",
        "x = base_model.output\n",
        "x = Flatten()(x)\n",
        "predictions = Dense(1, activation='sigmoid')(x)\n",
        "model = Model(inputs=base_model.input, outputs=predictions)\n",
        "\n",
        "# Compile the model\n",
        "model.compile(loss='binary_crossentropy',\n",
        "              optimizer='adam',\n",
        "              metrics=['accuracy'])\n",
        "\n",
        "# Define the function to extract frames from the video\n",
        "def extract_frames(video_path, num_frames=10):\n",
        "    frames = []\n",
        "    cap = cv2.VideoCapture(video_path)\n",
        "    frame_count = 0\n",
        "    while True:\n",
        "        ret, frame = cap.read()\n",
        "        if not ret:\n",
        "            break\n",
        "        if frame_count % (cap.get(cv2.CAP_PROP_FRAME_COUNT) // num_frames) == 0:\n",
        "            frame = cv2.resize(frame, (224, 224))\n",
        "            frame = frame / 255.0\n",
        "            frame = np.expand_dims(frame, axis=0)\n",
        "            frames.append(frame)\n",
        "        frame_count += 1\n",
        "    cap.release()\n",
        "    frames = np.concatenate(frames, axis=0)\n",
        "    return frames\n",
        "\n",
        "# Load the real videos dataset\n",
        "real_videos_dir = ['/content/drive/MyDrive/FF++/original_sequences/youtube/c23/videos/000.mp4','/content/drive/MyDrive/FF++/original_sequences/youtube/c23/videos/001.mp4','/content/drive/MyDrive/FF++/original_sequences/youtube/c23/videos/002.mp4','/content/drive/MyDrive/FF++/original_sequences/youtube/c23/videos/003.mp4','/content/drive/MyDrive/FF++/original_sequences/youtube/c23/videos/004.mp4','/content/drive/MyDrive/FF++/original_sequences/youtube/c23/videos/005.mp4']\n",
        "real_labels = np.zeros(6)  # Replace with the actual labels for real videos\n",
        "\n",
        "real_frames = []\n",
        "for video_path in real_videos_dir:\n",
        "    frames = extract_frames(video_path)\n",
        "    real_frames.append(frames)\n",
        "real_frames = np.concatenate(real_frames, axis=0)\n",
        "\n",
        "\n",
        "# Load the fake videos dataset\n",
        "fake_videos_dir = ['/content/drive/MyDrive/FF++/manipulated_sequences/Deepfakes/c23/videos/000_003.mp4','/content/drive/MyDrive/FF++/manipulated_sequences/Deepfakes/c23/videos/001_870.mp4','/content/drive/MyDrive/FF++/manipulated_sequences/Deepfakes/c23/videos/002_006.mp4','/content/drive/MyDrive/FF++/manipulated_sequences/Deepfakes/c23/videos/003_000.mp4','/content/drive/MyDrive/FF++/manipulated_sequences/Deepfakes/c23/videos/004_982.mp4','/content/drive/MyDrive/FF++/manipulated_sequences/Deepfakes/c23/videos/005_010.mp4']\n",
        "fake_labels = np.ones(6)  # Replace with the actual labels for fake videos\n",
        "\n",
        "fake_frames = []\n",
        "for video_path in fake_videos_dir:\n",
        "    frames = extract_frames(video_path)\n",
        "    fake_frames.append(frames)\n",
        "fake_frames = np.concatenate(fake_frames, axis=0)\n",
        "\n"
      ]
    },
    {
      "cell_type": "code",
      "execution_count": null,
      "metadata": {
        "colab": {
          "background_save": true,
          "base_uri": "https://localhost:8080/"
        },
        "id": "EgaqQ6YyTs9q",
        "outputId": "61376357-4e43-418d-ce11-789e341e090d"
      },
      "outputs": [
        {
          "name": "stdout",
          "output_type": "stream",
          "text": [
            "all_frames shape: (130, 224, 224, 3)\n",
            "all_labels shape: (130,)\n",
            "Epoch 1/10\n",
            "4/4 [==============================] - 185s 52s/step - loss: 0.1466 - accuracy: 1.0000 - val_loss: 4.2294e-06 - val_accuracy: 1.0000\n",
            "Epoch 2/10\n",
            "4/4 [==============================] - 103s 26s/step - loss: 1.5860e-06 - accuracy: 1.0000 - val_loss: 2.0246e-08 - val_accuracy: 1.0000\n",
            "Epoch 3/10\n",
            "4/4 [==============================] - 123s 32s/step - loss: 1.3282e-08 - accuracy: 1.0000 - val_loss: 7.9672e-10 - val_accuracy: 1.0000\n",
            "Epoch 4/10\n",
            "4/4 [==============================] - 103s 26s/step - loss: 6.9305e-10 - accuracy: 1.0000 - val_loss: 9.6444e-11 - val_accuracy: 1.0000\n",
            "Epoch 5/10\n",
            "4/4 [==============================] - 101s 25s/step - loss: 1.0395e-10 - accuracy: 1.0000 - val_loss: 2.3289e-11 - val_accuracy: 1.0000\n",
            "Epoch 6/10\n",
            "4/4 [==============================] - 125s 34s/step - loss: 3.0881e-11 - accuracy: 1.0000 - val_loss: 8.8315e-12 - val_accuracy: 1.0000\n",
            "Epoch 7/10\n",
            "4/4 [==============================] - 100s 25s/step - loss: 1.3290e-11 - accuracy: 1.0000 - val_loss: 4.5385e-12 - val_accuracy: 1.0000\n",
            "Epoch 8/10\n",
            "4/4 [==============================] - 119s 32s/step - loss: 7.6646e-12 - accuracy: 1.0000 - val_loss: 2.8709e-12 - val_accuracy: 1.0000\n",
            "Epoch 9/10\n",
            "4/4 [==============================] - 100s 25s/step - loss: 5.1206e-12 - accuracy: 1.0000 - val_loss: 2.0952e-12 - val_accuracy: 1.0000\n",
            "Epoch 10/10\n",
            "4/4 [==============================] - 99s 25s/step - loss: 3.9676e-12 - accuracy: 1.0000 - val_loss: 1.6875e-12 - val_accuracy: 1.0000\n"
          ]
        },
        {
          "data": {
            "text/plain": [
              "<keras.callbacks.History at 0x7f47b2525300>"
            ]
          },
          "execution_count": 28,
          "metadata": {},
          "output_type": "execute_result"
        }
      ],
      "source": [
        "# Combine the real and fake frames and labels\n",
        "all_frames = np.concatenate((real_frames, fake_frames), axis=0)\n",
        "all_labels = np.concatenate((real_labels, fake_labels), axis=0)\n",
        "all_labels = np.repeat(all_labels, all_frames.shape[0])\n",
        "# Ensure that the number of samples matches\n",
        "num_samples = len(all_frames)\n",
        "all_frames = all_frames[:num_samples]\n",
        "all_labels = all_labels[:num_samples]\n",
        "\n",
        "# Verify the shapes of all_frames and all_labels\n",
        "print('all_frames shape:', all_frames.shape)\n",
        "print('all_labels shape:', all_labels.shape)\n",
        "\n",
        "# Train the model\n",
        "model.fit(\n",
        "    all_frames,\n",
        "    all_labels,\n",
        "    batch_size=32,\n",
        "    epochs=10,\n",
        "    validation_split=0.2\n",
        ")\n"
      ]
    },
    {
      "cell_type": "code",
      "execution_count": null,
      "metadata": {
        "colab": {
          "base_uri": "https://localhost:8080/",
          "height": 414
        },
        "id": "WWmu5gPLW_TL",
        "outputId": "9f5257d5-4efd-4a2e-9cf2-864963e436e1"
      },
      "outputs": [
        {
          "name": "stdout",
          "output_type": "stream",
          "text": [
            "Epoch 1/10\n"
          ]
        },
        {
          "ename": "ValueError",
          "evalue": "ignored",
          "output_type": "error",
          "traceback": [
            "\u001b[0;31m---------------------------------------------------------------------------\u001b[0m",
            "\u001b[0;31mValueError\u001b[0m                                Traceback (most recent call last)",
            "\u001b[0;32m<ipython-input-24-e078d38b4bee>\u001b[0m in \u001b[0;36m<cell line: 2>\u001b[0;34m()\u001b[0m\n\u001b[1;32m      1\u001b[0m \u001b[0;31m# Train the model\u001b[0m\u001b[0;34m\u001b[0m\u001b[0;34m\u001b[0m\u001b[0m\n\u001b[0;32m----> 2\u001b[0;31m model.fit(\n\u001b[0m\u001b[1;32m      3\u001b[0m     \u001b[0mall_frames\u001b[0m\u001b[0;34m,\u001b[0m\u001b[0;34m\u001b[0m\u001b[0;34m\u001b[0m\u001b[0m\n\u001b[1;32m      4\u001b[0m     \u001b[0mall_labels\u001b[0m\u001b[0;34m,\u001b[0m\u001b[0;34m\u001b[0m\u001b[0;34m\u001b[0m\u001b[0m\n\u001b[1;32m      5\u001b[0m     \u001b[0mbatch_size\u001b[0m\u001b[0;34m=\u001b[0m\u001b[0;36m32\u001b[0m\u001b[0;34m,\u001b[0m\u001b[0;34m\u001b[0m\u001b[0;34m\u001b[0m\u001b[0m\n",
            "\u001b[0;32m/usr/local/lib/python3.10/dist-packages/keras/utils/traceback_utils.py\u001b[0m in \u001b[0;36merror_handler\u001b[0;34m(*args, **kwargs)\u001b[0m\n\u001b[1;32m     68\u001b[0m             \u001b[0;31m# To get the full stack trace, call:\u001b[0m\u001b[0;34m\u001b[0m\u001b[0;34m\u001b[0m\u001b[0m\n\u001b[1;32m     69\u001b[0m             \u001b[0;31m# `tf.debugging.disable_traceback_filtering()`\u001b[0m\u001b[0;34m\u001b[0m\u001b[0;34m\u001b[0m\u001b[0m\n\u001b[0;32m---> 70\u001b[0;31m             \u001b[0;32mraise\u001b[0m \u001b[0me\u001b[0m\u001b[0;34m.\u001b[0m\u001b[0mwith_traceback\u001b[0m\u001b[0;34m(\u001b[0m\u001b[0mfiltered_tb\u001b[0m\u001b[0;34m)\u001b[0m \u001b[0;32mfrom\u001b[0m \u001b[0;32mNone\u001b[0m\u001b[0;34m\u001b[0m\u001b[0;34m\u001b[0m\u001b[0m\n\u001b[0m\u001b[1;32m     71\u001b[0m         \u001b[0;32mfinally\u001b[0m\u001b[0;34m:\u001b[0m\u001b[0;34m\u001b[0m\u001b[0;34m\u001b[0m\u001b[0m\n\u001b[1;32m     72\u001b[0m             \u001b[0;32mdel\u001b[0m \u001b[0mfiltered_tb\u001b[0m\u001b[0;34m\u001b[0m\u001b[0;34m\u001b[0m\u001b[0m\n",
            "\u001b[0;32m/usr/local/lib/python3.10/dist-packages/tensorflow/python/eager/polymorphic_function/polymorphic_function.py\u001b[0m in \u001b[0;36m_call\u001b[0;34m(self, *args, **kwds)\u001b[0m\n\u001b[1;32m    933\u001b[0m       \u001b[0mresults\u001b[0m \u001b[0;34m=\u001b[0m \u001b[0mself\u001b[0m\u001b[0;34m.\u001b[0m\u001b[0m_variable_creation_fn\u001b[0m\u001b[0;34m(\u001b[0m\u001b[0;34m*\u001b[0m\u001b[0margs\u001b[0m\u001b[0;34m,\u001b[0m \u001b[0;34m**\u001b[0m\u001b[0mkwds\u001b[0m\u001b[0;34m)\u001b[0m\u001b[0;34m\u001b[0m\u001b[0;34m\u001b[0m\u001b[0m\n\u001b[1;32m    934\u001b[0m       \u001b[0;32mif\u001b[0m \u001b[0mself\u001b[0m\u001b[0;34m.\u001b[0m\u001b[0m_created_variables\u001b[0m \u001b[0;32mand\u001b[0m \u001b[0;32mnot\u001b[0m \u001b[0mALLOW_DYNAMIC_VARIABLE_CREATION\u001b[0m\u001b[0;34m:\u001b[0m\u001b[0;34m\u001b[0m\u001b[0;34m\u001b[0m\u001b[0m\n\u001b[0;32m--> 935\u001b[0;31m         raise ValueError(\"Creating variables on a non-first call to a function\"\n\u001b[0m\u001b[1;32m    936\u001b[0m                          \" decorated with tf.function.\")\n\u001b[1;32m    937\u001b[0m       \u001b[0;32mreturn\u001b[0m \u001b[0mresults\u001b[0m\u001b[0;34m\u001b[0m\u001b[0;34m\u001b[0m\u001b[0m\n",
            "\u001b[0;31mValueError\u001b[0m: Creating variables on a non-first call to a function decorated with tf.function."
          ]
        }
      ],
      "source": [
        "model.fit(\n",
        "    all_frames,\n",
        "    all_labels,\n",
        "    batch_size=32,\n",
        "    epochs=10,\n",
        "    validation_split=0.2\n",
        ")\n",
        "# Evaluate the model on the validation data\n",
        "score = model.evaluate(all_frames, all_labels)\n",
        "print('Validation loss:', score[0])\n",
        "print('Validation accuracy:', score[1])"
      ]
    },
    {
      "cell_type": "code",
      "execution_count": null,
      "metadata": {
        "colab": {
          "base_uri": "https://localhost:8080/"
        },
        "id": "cQLRZuEvkmJt",
        "outputId": "7a09dbdd-a869-44cd-b859-4a6d3a0a8db6"
      },
      "outputs": [
        {
          "name": "stdout",
          "output_type": "stream",
          "text": [
            "Looking in indexes: https://pypi.org/simple, https://us-python.pkg.dev/colab-wheels/public/simple/\n",
            "Collecting efficientnet\n",
            "  Downloading efficientnet-1.1.1-py3-none-any.whl (18 kB)\n",
            "Collecting keras-applications<=1.0.8,>=1.0.7 (from efficientnet)\n",
            "  Downloading Keras_Applications-1.0.8-py3-none-any.whl (50 kB)\n",
            "\u001b[2K     \u001b[90m━━━━━━━━━━━━━━━━━━━━━━━━━━━━━━━━━━━━━━━━\u001b[0m \u001b[32m50.7/50.7 kB\u001b[0m \u001b[31m4.5 MB/s\u001b[0m eta \u001b[36m0:00:00\u001b[0m\n",
            "\u001b[?25hRequirement already satisfied: scikit-image in /usr/local/lib/python3.10/dist-packages (from efficientnet) (0.19.3)\n",
            "Requirement already satisfied: numpy>=1.9.1 in /usr/local/lib/python3.10/dist-packages (from keras-applications<=1.0.8,>=1.0.7->efficientnet) (1.22.4)\n",
            "Requirement already satisfied: h5py in /usr/local/lib/python3.10/dist-packages (from keras-applications<=1.0.8,>=1.0.7->efficientnet) (3.8.0)\n",
            "Requirement already satisfied: scipy>=1.4.1 in /usr/local/lib/python3.10/dist-packages (from scikit-image->efficientnet) (1.10.1)\n",
            "Requirement already satisfied: networkx>=2.2 in /usr/local/lib/python3.10/dist-packages (from scikit-image->efficientnet) (3.1)\n",
            "Requirement already satisfied: pillow!=7.1.0,!=7.1.1,!=8.3.0,>=6.1.0 in /usr/local/lib/python3.10/dist-packages (from scikit-image->efficientnet) (8.4.0)\n",
            "Requirement already satisfied: imageio>=2.4.1 in /usr/local/lib/python3.10/dist-packages (from scikit-image->efficientnet) (2.25.1)\n",
            "Requirement already satisfied: tifffile>=2019.7.26 in /usr/local/lib/python3.10/dist-packages (from scikit-image->efficientnet) (2023.4.12)\n",
            "Requirement already satisfied: PyWavelets>=1.1.1 in /usr/local/lib/python3.10/dist-packages (from scikit-image->efficientnet) (1.4.1)\n",
            "Requirement already satisfied: packaging>=20.0 in /usr/local/lib/python3.10/dist-packages (from scikit-image->efficientnet) (23.1)\n",
            "Installing collected packages: keras-applications, efficientnet\n",
            "Successfully installed efficientnet-1.1.1 keras-applications-1.0.8\n"
          ]
        }
      ],
      "source": [
        "!pip install efficientnet\n"
      ]
    },
    {
      "cell_type": "code",
      "execution_count": null,
      "metadata": {
        "colab": {
          "base_uri": "https://localhost:8080/"
        },
        "id": "Qip9ow9rbSp0",
        "outputId": "387b2c57-6099-4d47-b285-1eb353223a23"
      },
      "outputs": [
        {
          "name": "stdout",
          "output_type": "stream",
          "text": [
            "all_frames shape: (130, 224, 224, 3)\n",
            "all_labels shape: (130, 6)\n"
          ]
        }
      ],
      "source": [
        "print('all_frames shape:', all_frames.shape)\n",
        "\n",
        "print('all_labels shape:', all_labels.shape)"
      ]
    },
    {
      "cell_type": "code",
      "execution_count": null,
      "metadata": {
        "colab": {
          "base_uri": "https://localhost:8080/",
          "height": 815
        },
        "id": "oUrzvE6BkmVI",
        "outputId": "91fc51ec-f55c-4810-de70-3fbc6c7f9a9a"
      },
      "outputs": [
        {
          "name": "stdout",
          "output_type": "stream",
          "text": [
            "Epoch 1/10\n",
            "4/4 [==============================] - 94s 19s/step - loss: 1.4289 - accuracy: 0.8365 - val_loss: 2.3770e-12 - val_accuracy: 1.0000\n",
            "Epoch 2/10\n",
            "4/4 [==============================] - 56s 14s/step - loss: 1.7738 - accuracy: 0.9423 - val_loss: 2.5210e-13 - val_accuracy: 1.0000\n",
            "Epoch 3/10\n",
            "4/4 [==============================] - 53s 13s/step - loss: 0.4709 - accuracy: 0.9712 - val_loss: 7.2799e-12 - val_accuracy: 1.0000\n",
            "Epoch 4/10\n",
            "4/4 [==============================] - 56s 13s/step - loss: 1.0079 - accuracy: 0.9135 - val_loss: 1.2072e-13 - val_accuracy: 1.0000\n",
            "Epoch 5/10\n",
            "4/4 [==============================] - 54s 14s/step - loss: 0.6138 - accuracy: 0.9519 - val_loss: 3.4136e-17 - val_accuracy: 1.0000\n",
            "Epoch 6/10\n",
            "4/4 [==============================] - 54s 14s/step - loss: 0.2758 - accuracy: 0.9615 - val_loss: 8.1656e-19 - val_accuracy: 1.0000\n",
            "Epoch 7/10\n",
            "4/4 [==============================] - 55s 14s/step - loss: 0.5381 - accuracy: 0.9423 - val_loss: 1.1217e-17 - val_accuracy: 1.0000\n",
            "Epoch 8/10\n",
            "4/4 [==============================] - 54s 14s/step - loss: 0.4786 - accuracy: 0.9423 - val_loss: 3.7926e-16 - val_accuracy: 1.0000\n",
            "Epoch 9/10\n",
            "4/4 [==============================] - 54s 14s/step - loss: 0.8925 - accuracy: 0.9327 - val_loss: 3.4135e-19 - val_accuracy: 1.0000\n",
            "Epoch 10/10\n",
            "4/4 [==============================] - 56s 14s/step - loss: 0.3975 - accuracy: 0.9615 - val_loss: 1.9584e-22 - val_accuracy: 1.0000\n"
          ]
        },
        {
          "ename": "ValueError",
          "evalue": "ignored",
          "output_type": "error",
          "traceback": [
            "\u001b[0;31m---------------------------------------------------------------------------\u001b[0m",
            "\u001b[0;31mValueError\u001b[0m                                Traceback (most recent call last)",
            "\u001b[0;32m<ipython-input-23-4259a1bb9213>\u001b[0m in \u001b[0;36m<cell line: 25>\u001b[0;34m()\u001b[0m\n\u001b[1;32m     23\u001b[0m \u001b[0;34m\u001b[0m\u001b[0m\n\u001b[1;32m     24\u001b[0m \u001b[0;31m# Evaluate the model on the validation data\u001b[0m\u001b[0;34m\u001b[0m\u001b[0;34m\u001b[0m\u001b[0m\n\u001b[0;32m---> 25\u001b[0;31m \u001b[0mscore\u001b[0m \u001b[0;34m=\u001b[0m \u001b[0mmodel\u001b[0m\u001b[0;34m.\u001b[0m\u001b[0mevaluate\u001b[0m\u001b[0;34m(\u001b[0m\u001b[0mall_frames\u001b[0m\u001b[0;34m,\u001b[0m \u001b[0mall_labels\u001b[0m\u001b[0;34m)\u001b[0m\u001b[0;34m\u001b[0m\u001b[0;34m\u001b[0m\u001b[0m\n\u001b[0m\u001b[1;32m     26\u001b[0m \u001b[0mprint\u001b[0m\u001b[0;34m(\u001b[0m\u001b[0;34m'Validation loss:'\u001b[0m\u001b[0;34m,\u001b[0m \u001b[0mscore\u001b[0m\u001b[0;34m[\u001b[0m\u001b[0;36m0\u001b[0m\u001b[0;34m]\u001b[0m\u001b[0;34m)\u001b[0m\u001b[0;34m\u001b[0m\u001b[0;34m\u001b[0m\u001b[0m\n\u001b[1;32m     27\u001b[0m \u001b[0mprint\u001b[0m\u001b[0;34m(\u001b[0m\u001b[0;34m'Validation accuracy:'\u001b[0m\u001b[0;34m,\u001b[0m \u001b[0mscore\u001b[0m\u001b[0;34m[\u001b[0m\u001b[0;36m1\u001b[0m\u001b[0;34m]\u001b[0m\u001b[0;34m)\u001b[0m\u001b[0;34m\u001b[0m\u001b[0;34m\u001b[0m\u001b[0m\n",
            "\u001b[0;32m/usr/local/lib/python3.10/dist-packages/keras/utils/traceback_utils.py\u001b[0m in \u001b[0;36merror_handler\u001b[0;34m(*args, **kwargs)\u001b[0m\n\u001b[1;32m     68\u001b[0m             \u001b[0;31m# To get the full stack trace, call:\u001b[0m\u001b[0;34m\u001b[0m\u001b[0;34m\u001b[0m\u001b[0m\n\u001b[1;32m     69\u001b[0m             \u001b[0;31m# `tf.debugging.disable_traceback_filtering()`\u001b[0m\u001b[0;34m\u001b[0m\u001b[0;34m\u001b[0m\u001b[0m\n\u001b[0;32m---> 70\u001b[0;31m             \u001b[0;32mraise\u001b[0m \u001b[0me\u001b[0m\u001b[0;34m.\u001b[0m\u001b[0mwith_traceback\u001b[0m\u001b[0;34m(\u001b[0m\u001b[0mfiltered_tb\u001b[0m\u001b[0;34m)\u001b[0m \u001b[0;32mfrom\u001b[0m \u001b[0;32mNone\u001b[0m\u001b[0;34m\u001b[0m\u001b[0;34m\u001b[0m\u001b[0m\n\u001b[0m\u001b[1;32m     71\u001b[0m         \u001b[0;32mfinally\u001b[0m\u001b[0;34m:\u001b[0m\u001b[0;34m\u001b[0m\u001b[0;34m\u001b[0m\u001b[0m\n\u001b[1;32m     72\u001b[0m             \u001b[0;32mdel\u001b[0m \u001b[0mfiltered_tb\u001b[0m\u001b[0;34m\u001b[0m\u001b[0;34m\u001b[0m\u001b[0m\n",
            "\u001b[0;32m/usr/local/lib/python3.10/dist-packages/keras/engine/data_adapter.py\u001b[0m in \u001b[0;36m_check_data_cardinality\u001b[0;34m(data)\u001b[0m\n\u001b[1;32m   1850\u001b[0m             )\n\u001b[1;32m   1851\u001b[0m         \u001b[0mmsg\u001b[0m \u001b[0;34m+=\u001b[0m \u001b[0;34m\"Make sure all arrays contain the same number of samples.\"\u001b[0m\u001b[0;34m\u001b[0m\u001b[0;34m\u001b[0m\u001b[0m\n\u001b[0;32m-> 1852\u001b[0;31m         \u001b[0;32mraise\u001b[0m \u001b[0mValueError\u001b[0m\u001b[0;34m(\u001b[0m\u001b[0mmsg\u001b[0m\u001b[0;34m)\u001b[0m\u001b[0;34m\u001b[0m\u001b[0;34m\u001b[0m\u001b[0m\n\u001b[0m\u001b[1;32m   1853\u001b[0m \u001b[0;34m\u001b[0m\u001b[0m\n\u001b[1;32m   1854\u001b[0m \u001b[0;34m\u001b[0m\u001b[0m\n",
            "\u001b[0;31mValueError\u001b[0m: Data cardinality is ambiguous:\n  x sizes: 130\n  y sizes: 780\nMake sure all arrays contain the same number of samples."
          ]
        }
      ],
      "source": [
        "from efficientnet.keras import EfficientNetB6\n",
        "\n",
        "base_model = EfficientNetB6(weights='imagenet', include_top=False, input_shape=(224, 224, 3))\n",
        "for layer in base_model.layers:\n",
        "    layer.trainable = False\n",
        "\n",
        "# Add a new output layer on top of the pre-trained model\n",
        "x = base_model.output\n",
        "x = Flatten()(x)\n",
        "predictions = Dense(1, activation='sigmoid')(x)\n",
        "model = Model(inputs=base_model.input, outputs=predictions)\n",
        "\n",
        "model.compile(loss='binary_crossentropy', optimizer='adam', metrics=['accuracy'])\n",
        "\n",
        "all_labels = all_labels.reshape(-1, 1)\n",
        "model.fit(\n",
        "    all_frames,\n",
        "    all_labels,\n",
        "    batch_size=32,\n",
        "    epochs=10,\n",
        "    validation_split=0.2\n",
        ")\n",
        "\n"
      ]
    },
    {
      "cell_type": "code",
      "execution_count": null,
      "metadata": {
        "colab": {
          "base_uri": "https://localhost:8080/"
        },
        "id": "JIx8rrhFg93m",
        "outputId": "1b24849c-6079-4dce-dfd2-86e5cdf96c5e"
      },
      "outputs": [
        {
          "name": "stdout",
          "output_type": "stream",
          "text": [
            "all_frames shape: (130, 224, 224, 3)\n",
            "all_labels shape: (780, 1)\n"
          ]
        }
      ],
      "source": [
        "frames_diff = all_frames.shape[0] - all_labels.shape[0]\n",
        "\n",
        "# Adjust the size of all_labels if frames_diff is positive\n",
        "if frames_diff > 0:\n",
        "    padding = np.zeros((frames_diff, all_labels.shape[1]))  # Create zero-filled padding\n",
        "    all_labels = np.vstack((all_labels, padding))  # Concatenate the padding to all_labels\n",
        "\n",
        "print('all_frames shape:', all_frames.shape)\n",
        "print('all_labels shape:', all_labels.shape)\n"
      ]
    },
    {
      "cell_type": "code",
      "execution_count": null,
      "metadata": {
        "id": "1zIn_aBSg8B5"
      },
      "outputs": [],
      "source": [
        "# Evaluate the model on the validation data\n",
        "\n",
        "score = model.evaluate(all_frames, all_labels)\n",
        "print('Validation loss:', score[0])\n",
        "print('Validation accuracy:', score[1])"
      ]
    },
    {
      "cell_type": "code",
      "execution_count": null,
      "metadata": {
        "colab": {
          "base_uri": "https://localhost:8080/"
        },
        "id": "GC_XkyBwlWWT",
        "outputId": "edd3d00c-62a2-4641-c8c5-d889590b4652"
      },
      "outputs": [
        {
          "name": "stdout",
          "output_type": "stream",
          "text": [
            "Epoch 1/10\n",
            "1/1 [==============================] - 8s 8s/step - loss: 1.3482 - accuracy: 0.6667 - val_loss: 1.0559e-09 - val_accuracy: 1.0000\n",
            "Epoch 2/10\n",
            "1/1 [==============================] - 2s 2s/step - loss: 27.3604 - accuracy: 0.3333 - val_loss: 3.6601e-06 - val_accuracy: 1.0000\n",
            "Epoch 3/10\n",
            "1/1 [==============================] - 2s 2s/step - loss: 11.6434 - accuracy: 0.3333 - val_loss: 1.4245 - val_accuracy: 0.6667\n",
            "Epoch 4/10\n",
            "1/1 [==============================] - 2s 2s/step - loss: 4.5484e-05 - accuracy: 1.0000 - val_loss: 15.4853 - val_accuracy: 0.0000e+00\n",
            "Epoch 5/10\n",
            "1/1 [==============================] - 3s 3s/step - loss: 3.5917 - accuracy: 0.6667 - val_loss: 21.9085 - val_accuracy: 0.0000e+00\n",
            "Epoch 6/10\n",
            "1/1 [==============================] - 4s 4s/step - loss: 5.6206 - accuracy: 0.6667 - val_loss: 20.4661 - val_accuracy: 0.0000e+00\n",
            "Epoch 7/10\n",
            "1/1 [==============================] - 2s 2s/step - loss: 4.2168 - accuracy: 0.6667 - val_loss: 13.2469 - val_accuracy: 0.0000e+00\n",
            "Epoch 8/10\n",
            "1/1 [==============================] - 2s 2s/step - loss: 0.9660 - accuracy: 0.7778 - val_loss: 4.4002 - val_accuracy: 0.3333\n",
            "Epoch 9/10\n",
            "1/1 [==============================] - 2s 2s/step - loss: 8.5605e-05 - accuracy: 1.0000 - val_loss: 1.4460 - val_accuracy: 0.6667\n",
            "Epoch 10/10\n",
            "1/1 [==============================] - 2s 2s/step - loss: 3.9852e-10 - accuracy: 1.0000 - val_loss: 0.1224 - val_accuracy: 1.0000\n",
            "1/1 [==============================] - 2s 2s/step - loss: 0.0306 - accuracy: 1.0000\n",
            "Validation loss: 0.0305949654430151\n",
            "Validation accuracy: 1.0\n"
          ]
        }
      ],
      "source": [
        "from keras.applications import ResNet50\n",
        "base_model = ResNet50(weights='imagenet', include_top=False, input_shape=(224, 224, 3))\n",
        "\n",
        "# Freeze the layers in the base model\n",
        "for layer in base_model.layers:\n",
        "    layer.trainable = False\n",
        "\n",
        "# Add a new output layer on top of the pre-trained model\n",
        "x = base_model.output\n",
        "x = Flatten()(x)\n",
        "predictions = Dense(1, activation='sigmoid')(x)\n",
        "model = Model(inputs=base_model.input, outputs=predictions)\n",
        "\n",
        "\n",
        "model.compile(loss='binary_crossentropy', optimizer='adam', metrics=['accuracy'])\n",
        "model.fit(\n",
        "    all_frames,\n",
        "    all_labels,\n",
        "    batch_size=32,\n",
        "    epochs=10,\n",
        "    validation_split=0.2\n",
        ")\n",
        "\n",
        "# Evaluate the model on the validation data\n",
        "score = model.evaluate(all_frames, all_labels)\n",
        "print('Validation loss:', score[0])\n",
        "print('Validation accuracy:', score[1])\n"
      ]
    },
    {
      "cell_type": "code",
      "execution_count": null,
      "metadata": {
        "colab": {
          "base_uri": "https://localhost:8080/"
        },
        "id": "SCTlALUtmleK",
        "outputId": "5843e276-cc98-4afd-8386-b09e9d4fdeb7"
      },
      "outputs": [
        {
          "name": "stdout",
          "output_type": "stream",
          "text": [
            "Downloading data from https://storage.googleapis.com/tensorflow/keras-applications/vgg16/vgg16_weights_tf_dim_ordering_tf_kernels_notop.h5\n",
            "58889256/58889256 [==============================] - 0s 0us/step\n",
            "Epoch 1/10\n",
            "1/1 [==============================] - 10s 10s/step - loss: 0.0465 - accuracy: 1.0000 - val_loss: 41.0409 - val_accuracy: 0.0000e+00\n",
            "Epoch 2/10\n",
            "1/1 [==============================] - 7s 7s/step - loss: 17.9400 - accuracy: 0.6667 - val_loss: 9.1854 - val_accuracy: 0.0000e+00\n",
            "Epoch 3/10\n",
            "1/1 [==============================] - 7s 7s/step - loss: 2.0227 - accuracy: 0.6667 - val_loss: 1.2221e-04 - val_accuracy: 1.0000\n",
            "Epoch 4/10\n",
            "1/1 [==============================] - 6s 6s/step - loss: 5.2493 - accuracy: 0.3333 - val_loss: 6.9211e-04 - val_accuracy: 1.0000\n",
            "Epoch 5/10\n",
            "1/1 [==============================] - 9s 9s/step - loss: 0.2473 - accuracy: 0.8889 - val_loss: 0.0394 - val_accuracy: 1.0000\n",
            "Epoch 6/10\n",
            "1/1 [==============================] - 7s 7s/step - loss: 3.3868e-08 - accuracy: 1.0000 - val_loss: 0.5558 - val_accuracy: 0.6667\n",
            "Epoch 7/10\n",
            "1/1 [==============================] - 8s 8s/step - loss: 2.4359e-14 - accuracy: 1.0000 - val_loss: 1.5183 - val_accuracy: 0.6667\n",
            "Epoch 8/10\n",
            "1/1 [==============================] - 7s 7s/step - loss: 6.4381e-19 - accuracy: 1.0000 - val_loss: 2.4219 - val_accuracy: 0.6667\n",
            "Epoch 9/10\n",
            "1/1 [==============================] - 8s 8s/step - loss: 1.2230e-17 - accuracy: 1.0000 - val_loss: 3.2267 - val_accuracy: 0.6667\n",
            "Epoch 10/10\n",
            "1/1 [==============================] - 7s 7s/step - loss: 1.9966e-16 - accuracy: 1.0000 - val_loss: 3.9452 - val_accuracy: 0.6667\n",
            "1/1 [==============================] - 8s 8s/step - loss: 0.9863 - accuracy: 0.9167\n",
            "Validation loss: 0.9863066077232361\n",
            "Validation accuracy: 0.9166666865348816\n"
          ]
        }
      ],
      "source": [
        "from keras.applications import VGG16\n",
        "base_model = VGG16(weights='imagenet', include_top=False, input_shape=(224, 224, 3))\n",
        "\n",
        "# Freeze the layers in the base model\n",
        "for layer in base_model.layers:\n",
        "    layer.trainable = False\n",
        "\n",
        "# Add a new output layer on top of the pre-trained model\n",
        "x = base_model.output\n",
        "x = Flatten()(x)\n",
        "predictions = Dense(1, activation='sigmoid')(x)\n",
        "model = Model(inputs=base_model.input, outputs=predictions)\n",
        "\n",
        "\n",
        "model.compile(loss='binary_crossentropy', optimizer='adam', metrics=['accuracy'])\n",
        "model.fit(\n",
        "    all_frames,\n",
        "    all_labels,\n",
        "    batch_size=32,\n",
        "    epochs=10,\n",
        "    validation_split=0.2\n",
        ")\n",
        "\n",
        "# Evaluate the model on the validation data\n",
        "score = model.evaluate(all_frames, all_labels)\n",
        "print('Validation loss:', score[0])\n",
        "print('Validation accuracy:', score[1])\n"
      ]
    },
    {
      "cell_type": "code",
      "execution_count": null,
      "metadata": {
        "id": "CsNBD9Evnw2C"
      },
      "outputs": [],
      "source": []
    }
  ],
  "metadata": {
    "colab": {
      "provenance": [],
      "mount_file_id": "1I4gchvWwiKc0K6oWNIoCqBYT5CdWRI48",
      "authorship_tag": "ABX9TyOxd5dKw7VcpM0kkDByxYDq",
      "include_colab_link": true
    },
    "kernelspec": {
      "display_name": "Python 3",
      "name": "python3"
    },
    "language_info": {
      "name": "python"
    }
  },
  "nbformat": 4,
  "nbformat_minor": 0
}